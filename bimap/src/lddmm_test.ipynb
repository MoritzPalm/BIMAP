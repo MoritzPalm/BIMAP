{
 "cells": [
  {
   "cell_type": "code",
   "execution_count": 1,
   "id": "991a5336-754d-4149-90e2-2d6a3975d4c6",
   "metadata": {},
   "outputs": [],
   "source": [
    "import corr\n",
    "import torch_lddmm\n",
    "\n",
    "import numpy as np\n",
    "import torch"
   ]
  },
  {
   "cell_type": "code",
   "execution_count": 2,
   "id": "59b709eb-e4ed-4cc9-83af-c0ffae01826e",
   "metadata": {},
   "outputs": [],
   "source": [
    "frames = corr.load_example_experiment()\n",
    "template_idx = corr.find_highest_correlation(frames)\n",
    "template = frames[template_idx]"
   ]
  },
  {
   "cell_type": "code",
   "execution_count": 3,
   "id": "794a8bff-1e31-433f-9ded-13b95ce4401f",
   "metadata": {},
   "outputs": [
    {
     "data": {
      "text/plain": [
       "tensor([[  56.,   64., 1064.,  ...,  526.,   57.,   44.],\n",
       "        [1796.,   68.,   68.,  ...,   71.,   62.,   54.],\n",
       "        [  74.,  567., 1147.,  ...,   58.,   66.,  127.],\n",
       "        ...,\n",
       "        [  66.,   64., 3370.,  ...,   64.,   58.,  274.],\n",
       "        [  71.,   57.,   72.,  ...,   51.,   55.,   53.],\n",
       "        [  88., 1515.,   63.,  ...,   64., 1157.,   58.]])"
      ]
     },
     "execution_count": 3,
     "metadata": {},
     "output_type": "execute_result"
    }
   ],
   "source": [
    "torch.from_numpy(template)"
   ]
  },
  {
   "cell_type": "code",
   "execution_count": 5,
   "id": "0795df19-a5da-4daa-be9d-e6b4cafce99f",
   "metadata": {},
   "outputs": [
    {
     "name": "stdout",
     "output_type": "stream",
     "text": [
      "\n",
      "Current parameters:\n",
      ">    a               = 8 (smoothing kernel, a*(pixel_size))\n",
      ">    p               = 2 (smoothing kernel power, p*2)\n",
      ">    niter           = 100 (number of iterations)\n",
      ">    epsilon         = 1.0 (gradient descent step size)\n",
      ">    epsilonL        = 1e-07 (gradient descent step size, affine)\n",
      ">    epsilonT        = 2e-05 (gradient descent step size, translation)\n",
      ">    minbeta         = 0.0001 (smallest multiple of epsilon)\n",
      ">    sigma           = 10.0 (matching term coefficient (0.5/sigma**2))\n",
      ">    sigmaR          = 10.0 (regularization term coefficient (0.5/sigmaR**2))\n",
      ">    nt              = 5 (number of time steps in velocity field)\n",
      ">    do_lddmm        = 1 (perform LDDMM step, 0 = no, 1 = yes)\n",
      ">    do_affine       = 0 (interleave linear registration: 0 = no, 1 = affine, 2 = rigid, 3 = rigid + scale)\n",
      ">    checkaffinestep = 0 (evaluate linear matching energy: 0 = no, 1 = yes)\n",
      ">    im_norm_ms      = 0 (normalize image by mean and std: 0 = no, 1 = yes)\n",
      ">    gpu_number      = 0 (index of CUDA_VISIBLE_DEVICES to use)\n",
      ">    dtype           = float (bit depth, 'float' or 'double')\n",
      ">    energy_fraction = 0.02 (fraction of initial energy at which to stop)\n",
      ">    cc              = 0 (contrast correction: 0 = no, 1 = yes)\n",
      ">    cc_channels     = [] (image channels to run contrast correction (0-indexed))\n",
      ">    we              = 0 (weight estimation: 0 = no, 2+ = yes)\n",
      ">    we_channels     = [] (image channels to run weight estimation (0-indexed))\n",
      ">    sigmaW          = 1.0 (coefficient for each weight estimation class)\n",
      ">    nMstep          = 5 (update weight estimation every nMstep steps)\n",
      ">    v_scale         = 1.0 (parameter scaling factor)\n",
      ">    low_memory      = 0 (low memory mode: 0 = no, 1 = yes)\n",
      ">    update_epsilon  = 0 (update optimization step size between runs: 0 = no, 1 = yes)\n",
      ">    outdir          = ./ (output directory name)\n",
      ">    optimizer       = gradient descent (optimizer type)\n",
      "\n",
      "\n",
      ">    template        = numpy.ndarray\n",
      "\n",
      ">    target          = numpy.ndarray\n",
      "\n",
      ">    costmask        = None (costmask file name or numpy.ndarray)\n"
     ]
    },
    {
     "name": "stderr",
     "output_type": "stream",
     "text": [
      "/Users/admin/Documents/Studium/10_Semester/bimap/bimap/src/torch_lddmm.py:202: SyntaxWarning: invalid escape sequence '\\/'\n",
      "  print('WARNING: template file name is not set. Use LDDMM.setParams(\\'template\\',filename\\/array).\\n')\n",
      "/Users/admin/Documents/Studium/10_Semester/bimap/bimap/src/torch_lddmm.py:216: SyntaxWarning: invalid escape sequence '\\/'\n",
      "  print('WARNING: target file name is not set. Use LDDMM.setParams(\\'target\\',filename\\/array).\\n')\n"
     ]
    },
    {
     "ename": "AssertionError",
     "evalue": "Torch not compiled with CUDA enabled",
     "output_type": "error",
     "traceback": [
      "\u001b[31m---------------------------------------------------------------------------\u001b[39m",
      "\u001b[31mAssertionError\u001b[39m                            Traceback (most recent call last)",
      "\u001b[36mCell\u001b[39m\u001b[36m \u001b[39m\u001b[32mIn[5]\u001b[39m\u001b[32m, line 2\u001b[39m\n\u001b[32m      1\u001b[39m lddmm = torch_lddmm.LDDMM(template=template, target=frames[\u001b[32m0\u001b[39m], a=\u001b[32m8\u001b[39m, epsilon=\u001b[32m1.0\u001b[39m, sigma=\u001b[32m10.0\u001b[39m, sigmaR=\u001b[32m10.0\u001b[39m, dx=[\u001b[32m0.1\u001b[39m,\u001b[32m0.1\u001b[39m,\u001b[32m0.1\u001b[39m]) \u001b[38;5;66;03m# create object\u001b[39;00m\n\u001b[32m----> \u001b[39m\u001b[32m2\u001b[39m \u001b[43mlddmm\u001b[49m\u001b[43m.\u001b[49m\u001b[43mrun\u001b[49m\u001b[43m(\u001b[49m\u001b[43m)\u001b[49m \u001b[38;5;66;03m# run registration with these settings\u001b[39;00m\n\u001b[32m      3\u001b[39m (vt0,vt1,vt2) = lddmm.outputTransforms() \u001b[38;5;66;03m# output LDDMM transforms\u001b[39;00m\n\u001b[32m      4\u001b[39m (phi0,phi1,phi2) = lddmm.computeThisDisplacement() \u001b[38;5;66;03m# output resultant displacement field\u001b[39;00m\n",
      "\u001b[36mFile \u001b[39m\u001b[32m~/Documents/Studium/10_Semester/bimap/bimap/src/torch_lddmm.py:3079\u001b[39m, in \u001b[36mLDDMM.run\u001b[39m\u001b[34m(self, restart, vt0, vt1, vt2, affineA, save_template)\u001b[39m\n\u001b[32m   3075\u001b[39m     \u001b[38;5;28;01mreturn\u001b[39;00m\n\u001b[32m   3077\u001b[39m \u001b[38;5;28;01mif\u001b[39;00m \u001b[38;5;28mself\u001b[39m.initializer_flags[\u001b[33m'\u001b[39m\u001b[33mload\u001b[39m\u001b[33m'\u001b[39m] == \u001b[32m1\u001b[39m:\n\u001b[32m   3078\u001b[39m     \u001b[38;5;66;03m# load images\u001b[39;00m\n\u001b[32m-> \u001b[39m\u001b[32m3079\u001b[39m     flag = \u001b[38;5;28;43mself\u001b[39;49m\u001b[43m.\u001b[49m\u001b[43m_load\u001b[49m\u001b[43m(\u001b[49m\u001b[38;5;28;43mself\u001b[39;49m\u001b[43m.\u001b[49m\u001b[43mparams\u001b[49m\u001b[43m[\u001b[49m\u001b[33;43m'\u001b[39;49m\u001b[33;43mtemplate\u001b[39;49m\u001b[33;43m'\u001b[39;49m\u001b[43m]\u001b[49m\u001b[43m,\u001b[49m\u001b[38;5;28;43mself\u001b[39;49m\u001b[43m.\u001b[49m\u001b[43mparams\u001b[49m\u001b[43m[\u001b[49m\u001b[33;43m'\u001b[39;49m\u001b[33;43mtarget\u001b[39;49m\u001b[33;43m'\u001b[39;49m\u001b[43m]\u001b[49m\u001b[43m,\u001b[49m\u001b[38;5;28;43mself\u001b[39;49m\u001b[43m.\u001b[49m\u001b[43mparams\u001b[49m\u001b[43m[\u001b[49m\u001b[33;43m'\u001b[39;49m\u001b[33;43mcostmask\u001b[39;49m\u001b[33;43m'\u001b[39;49m\u001b[43m]\u001b[49m\u001b[43m)\u001b[49m\n\u001b[32m   3080\u001b[39m     \u001b[38;5;28;01mif\u001b[39;00m flag==-\u001b[32m1\u001b[39m:\n\u001b[32m   3081\u001b[39m         \u001b[38;5;28mprint\u001b[39m(\u001b[33m'\u001b[39m\u001b[33mERROR: images did not load.\u001b[39m\u001b[33m'\u001b[39m)\n",
      "\u001b[36mFile \u001b[39m\u001b[32m~/Documents/Studium/10_Semester/bimap/bimap/src/torch_lddmm.py:486\u001b[39m, in \u001b[36mLDDMM._load\u001b[39m\u001b[34m(self, template, target, costmask)\u001b[39m\n\u001b[32m    484\u001b[39m     I[i] = torch.tensor((template[i] - np.mean(template[i])) / np.std(template[i])).type(\u001b[38;5;28mself\u001b[39m.params[\u001b[33m'\u001b[39m\u001b[33mdtype\u001b[39m\u001b[33m'\u001b[39m]).to(device=\u001b[38;5;28mself\u001b[39m.params[\u001b[33m'\u001b[39m\u001b[33mcuda\u001b[39m\u001b[33m'\u001b[39m])\n\u001b[32m    485\u001b[39m \u001b[38;5;28;01melse\u001b[39;00m:\n\u001b[32m--> \u001b[39m\u001b[32m486\u001b[39m     I[i] = \u001b[43mtorch\u001b[49m\u001b[43m.\u001b[49m\u001b[43mtensor\u001b[49m\u001b[43m(\u001b[49m\u001b[43mtemplate\u001b[49m\u001b[43m[\u001b[49m\u001b[43mi\u001b[49m\u001b[43m]\u001b[49m\u001b[43m)\u001b[49m\u001b[43m.\u001b[49m\u001b[43mtype\u001b[49m\u001b[43m(\u001b[49m\u001b[38;5;28;43mself\u001b[39;49m\u001b[43m.\u001b[49m\u001b[43mparams\u001b[49m\u001b[43m[\u001b[49m\u001b[33;43m'\u001b[39;49m\u001b[33;43mdtype\u001b[39;49m\u001b[33;43m'\u001b[39;49m\u001b[43m]\u001b[49m\u001b[43m)\u001b[49m\u001b[43m.\u001b[49m\u001b[43mto\u001b[49m\u001b[43m(\u001b[49m\u001b[43mdevice\u001b[49m\u001b[43m=\u001b[49m\u001b[38;5;28;43mself\u001b[39;49m\u001b[43m.\u001b[49m\u001b[43mparams\u001b[49m\u001b[43m[\u001b[49m\u001b[33;43m'\u001b[39;49m\u001b[33;43mcuda\u001b[39;49m\u001b[33;43m'\u001b[39;49m\u001b[43m]\u001b[49m\u001b[43m)\u001b[49m\n\u001b[32m    488\u001b[39m Isize[i] = template[i].shape\n\u001b[32m    489\u001b[39m \u001b[38;5;28;01mif\u001b[39;00m \u001b[38;5;28mself\u001b[39m.params[\u001b[33m'\u001b[39m\u001b[33mdx\u001b[39m\u001b[33m'\u001b[39m] == \u001b[38;5;28;01mNone\u001b[39;00m:\n",
      "\u001b[36mFile \u001b[39m\u001b[32m~/Documents/Studium/10_Semester/bimap/.venv/lib/python3.12/site-packages/torch/cuda/__init__.py:293\u001b[39m, in \u001b[36m_lazy_init\u001b[39m\u001b[34m()\u001b[39m\n\u001b[32m    288\u001b[39m     \u001b[38;5;28;01mraise\u001b[39;00m \u001b[38;5;167;01mRuntimeError\u001b[39;00m(\n\u001b[32m    289\u001b[39m         \u001b[33m\"\u001b[39m\u001b[33mCannot re-initialize CUDA in forked subprocess. To use CUDA with \u001b[39m\u001b[33m\"\u001b[39m\n\u001b[32m    290\u001b[39m         \u001b[33m\"\u001b[39m\u001b[33mmultiprocessing, you must use the \u001b[39m\u001b[33m'\u001b[39m\u001b[33mspawn\u001b[39m\u001b[33m'\u001b[39m\u001b[33m start method\u001b[39m\u001b[33m\"\u001b[39m\n\u001b[32m    291\u001b[39m     )\n\u001b[32m    292\u001b[39m \u001b[38;5;28;01mif\u001b[39;00m \u001b[38;5;129;01mnot\u001b[39;00m \u001b[38;5;28mhasattr\u001b[39m(torch._C, \u001b[33m\"\u001b[39m\u001b[33m_cuda_getDeviceCount\u001b[39m\u001b[33m\"\u001b[39m):\n\u001b[32m--> \u001b[39m\u001b[32m293\u001b[39m     \u001b[38;5;28;01mraise\u001b[39;00m \u001b[38;5;167;01mAssertionError\u001b[39;00m(\u001b[33m\"\u001b[39m\u001b[33mTorch not compiled with CUDA enabled\u001b[39m\u001b[33m\"\u001b[39m)\n\u001b[32m    294\u001b[39m \u001b[38;5;28;01mif\u001b[39;00m _cudart \u001b[38;5;129;01mis\u001b[39;00m \u001b[38;5;28;01mNone\u001b[39;00m:\n\u001b[32m    295\u001b[39m     \u001b[38;5;28;01mraise\u001b[39;00m \u001b[38;5;167;01mAssertionError\u001b[39;00m(\n\u001b[32m    296\u001b[39m         \u001b[33m\"\u001b[39m\u001b[33mlibcudart functions unavailable. It looks like you have a broken build?\u001b[39m\u001b[33m\"\u001b[39m\n\u001b[32m    297\u001b[39m     )\n",
      "\u001b[31mAssertionError\u001b[39m: Torch not compiled with CUDA enabled"
     ]
    }
   ],
   "source": [
    "lddmm = torch_lddmm.LDDMM(template=template, target=frames[0], a=8, epsilon=1.0, sigma=10.0, sigmaR=10.0, dx=[0.1,0.1,0.1]) # create object\n",
    "lddmm.run() # run registration with these settings\n",
    "(vt0,vt1,vt2) = lddmm.outputTransforms() # output LDDMM transforms\n",
    "(phi0,phi1,phi2) = lddmm.computeThisDisplacement() # output resultant displacement field\n",
    "deformed_template = lddmm.outputDeformedTemplate() # output deformed template as numpy array"
   ]
  },
  {
   "cell_type": "code",
   "execution_count": null,
   "id": "7ec1f909-680a-4253-8731-2da61b405d09",
   "metadata": {},
   "outputs": [],
   "source": []
  }
 ],
 "metadata": {
  "kernelspec": {
   "display_name": "Python 3 (ipykernel)",
   "language": "python",
   "name": "python3"
  },
  "language_info": {
   "codemirror_mode": {
    "name": "ipython",
    "version": 3
   },
   "file_extension": ".py",
   "mimetype": "text/x-python",
   "name": "python",
   "nbconvert_exporter": "python",
   "pygments_lexer": "ipython3",
   "version": "3.12.10"
  }
 },
 "nbformat": 4,
 "nbformat_minor": 5
}
