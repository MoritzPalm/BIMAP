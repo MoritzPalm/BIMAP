{
 "cells": [
  {
   "cell_type": "code",
   "execution_count": 1,
   "id": "88adcc0d-3be4-4e4a-a801-ce3911573c92",
   "metadata": {
    "ExecuteTime": {
     "end_time": "2025-06-20T11:06:47.725873Z",
     "start_time": "2025-06-20T11:06:42.280375Z"
    }
   },
   "outputs": [],
   "source": [
    "import os\n",
    "from pathlib import Path\n",
    "\n",
    "import corr\n",
    "import utils\n",
    "import nibabel as nib\n",
    "import numpy as np"
   ]
  },
  {
   "cell_type": "code",
   "execution_count": 2,
   "id": "74c751b51b5fd6bd",
   "metadata": {
    "ExecuteTime": {
     "end_time": "2025-06-20T11:06:48.339466Z",
     "start_time": "2025-06-20T11:06:48.057608Z"
    }
   },
   "outputs": [],
   "source": [
    "# in case of installation trouble: https://github.com/voxelmorph/voxelmorph/issues/629"
   ]
  },
  {
   "cell_type": "code",
   "execution_count": 3,
   "id": "e5791065146d60cf",
   "metadata": {
    "ExecuteTime": {
     "end_time": "2025-06-20T11:06:50.164811Z",
     "start_time": "2025-06-20T11:06:48.349975Z"
    }
   },
   "outputs": [],
   "source": [
    "frames = utils.load_example_experiment()\n",
    "template = frames[utils.find_highest_correlation(frames)]"
   ]
  },
  {
   "cell_type": "code",
   "execution_count": 4,
   "id": "8984e97a95d49cbb",
   "metadata": {
    "ExecuteTime": {
     "end_time": "2025-06-20T11:06:50.195966Z",
     "start_time": "2025-06-20T11:06:50.192326Z"
    }
   },
   "outputs": [
    {
     "name": "stdout",
     "output_type": "stream",
     "text": [
      "..\\..\\data\\low_movement\\Experiment-746czi\\vxm_data\n"
     ]
    }
   ],
   "source": [
    "save_path = utils.pth\n",
    "save_path = save_path / \"vxm_data\"\n",
    "print(save_path)"
   ]
  },
  {
   "cell_type": "code",
   "execution_count": 9,
   "id": "86914c70478f470b",
   "metadata": {
    "ExecuteTime": {
     "end_time": "2025-06-20T11:13:31.727674Z",
     "start_time": "2025-06-20T11:13:31.722750Z"
    }
   },
   "outputs": [],
   "source": [
    "def prepare_data(frames, template, save_path):\n",
    "    frames = np.array(frames)\n",
    "    if not os.path.exists(save_path):\n",
    "        os.makedirs(save_path)\n",
    "    frame_path = Path(save_path) / \"frame_zero.nii\"\n",
    "    template_path = Path(save_path) / \"template.nii\"\n",
    "    frame_rotated = np.flipud(np.rot90(frames[0], k=1))\n",
    "    frame_rgb = np.stack([frame_rotated]*3, axis=-1)\n",
    "    frame_img = nib.Nifti1Image(frame_rgb, np.eye(4))\n",
    "    nib.save(frame_img, frame_path)\n",
    "    template_rotated = np.flipud(np.rot90(template, k=1))\n",
    "    template_rgb = np.stack([template_rotated]*3, axis=-1)\n",
    "    template_img = nib.Nifti1Image(template_rgb, np.eye(4))\n",
    "    nib.save(template_img, template_path)\n",
    "    #template_img = Image.fromarray(template)\n",
    "    #frame_img = Image.fromarray(frames[0])\n",
    "    #template_img.save(template_path)\n",
    "    #frame_img.save(frame_path)\n",
    "    #np.save(save_path / \"frames.npy\", frames)\n",
    "    #np.save(save_path / \"template.npy\", template)\n",
    "    #np.save(save_path / \"frames[0].npy\", frames[0])\n"
   ]
  },
  {
   "cell_type": "code",
   "execution_count": 10,
   "id": "58a1f87cd3f06a59",
   "metadata": {
    "ExecuteTime": {
     "end_time": "2025-06-20T11:13:32.566680Z",
     "start_time": "2025-06-20T11:13:32.483460Z"
    }
   },
   "outputs": [],
   "source": [
    "prepare_data(frames, template, save_path)"
   ]
  },
  {
   "cell_type": "code",
   "execution_count": 7,
   "id": "23006fa889e854aa",
   "metadata": {
    "ExecuteTime": {
     "end_time": "2025-06-20T11:06:50.332656Z",
     "start_time": "2025-06-20T11:06:50.326658Z"
    }
   },
   "outputs": [
    {
     "data": {
      "text/plain": [
       "(258, 512)"
      ]
     },
     "execution_count": 7,
     "metadata": {},
     "output_type": "execute_result"
    }
   ],
   "source": [
    "frames[0].shape"
   ]
  },
  {
   "cell_type": "code",
   "execution_count": 8,
   "id": "f0f3703c5373c41e",
   "metadata": {
    "ExecuteTime": {
     "end_time": "2025-06-20T11:06:50.348600Z",
     "start_time": "2025-06-20T11:06:50.344538Z"
    }
   },
   "outputs": [
    {
     "data": {
      "text/plain": [
       "(258, 512)"
      ]
     },
     "execution_count": 8,
     "metadata": {},
     "output_type": "execute_result"
    }
   ],
   "source": [
    "template.shape"
   ]
  },
  {
   "cell_type": "code",
   "execution_count": null,
   "id": "c89092a88d61cffa",
   "metadata": {
    "ExecuteTime": {
     "end_time": "2025-06-20T11:06:50.373080Z",
     "start_time": "2025-06-20T11:06:50.370080Z"
    }
   },
   "outputs": [],
   "source": [
    "# issues: process highly complicated (docker through wsl, only one image at a time)\n",
    "#"
   ]
  },
  {
   "metadata": {},
   "cell_type": "code",
   "outputs": [],
   "execution_count": null,
   "source": "",
   "id": "733da5e56c18e69"
  },
  {
   "metadata": {},
   "cell_type": "markdown",
   "source": [
    "sudo ../../../../synthmorph register -o moved.nii -t trans.nii template.nii template.nii\n",
    "Running SynthMorph version 4 from https://hub.docker.com/u/freesurfer\n",
    "Using /usr/bin/docker to manage containers\n",
    "Will bind /mnt in image to SUBJECTS_DIR=\"/mnt/c/Users/morit/Documents/Studium/BIMAP/data/strong_movement/Experiment-591czi/vxm_data\"\n",
    "Command: docker run --rm -v /mnt/c/Users/morit/Documents/Studium/BIMAP/data/strong_movement/Experiment-591czi/vxm_data:/mnt -t -u 0:0 freesurfer/synthmorph:4\n",
    "SynthMorph arguments: register -o moved.nii -t trans.nii template.nii template.nii\n",
    "Traceback (most recent call last):\n",
    "  File \"/freesurfer/mri_synthmorph\", line 395, in <module>\n",
    "    registration.register(arg)\n",
    "  File \"/freesurfer/synthmorph/registration.py\", line 256, in register\n",
    "    fw, bw = map(tf.squeeze, model(inputs))\n",
    "                             ^^^^^^^^^^^^^\n",
    "  File \"/usr/local/lib/python3.11/dist-packages/keras/src/utils/traceback_utils.py\", line 122, in error_handler\n",
    "    raise e.with_traceback(filtered_tb) from None\n",
    "  File \"/freesurfer/env/lib/python3.11/site-packages/voxelmorph/tf/networks.py\", line 1412, in <lambda>\n",
    "    aff_2 = KL.Lambda(lambda x: utils.fit_affine(*x))(fit_2)\n",
    "                                ^^^^^^^^^^^^^^^^^^^^\n",
    "  File \"/freesurfer/env/lib/python3.11/site-packages/voxelmorph/tf/utils/utils.py\", line 1089, in fit_affine\n",
    "    beta = tf.linalg.inv(x_transp @ x) @ x_transp @ y\n",
    "           ^^^^^^^^^^^^^^^^^^^^^^^^^^^\n",
    "tensorflow.python.framework.errors_impl.InvalidArgumentError: Exception encountered when calling Lambda.call().\n",
    "\n",
    "{{function_node __wrapped__MatrixInverse_device_/job:localhost/replica:0/task:0/device:CPU:0}} Input is not invertible. [Op:MatrixInverse] name:\n",
    "\n",
    "Arguments received by Lambda.call():\n",
    "  • inputs=('tf.Tensor(shape=(1, 64, 3), dtype=float32)', 'tf.Tensor(shape=(1, 64, 3), dtype=float32)', 'tf.Tensor(shape=(1, 64), dtype=float32)')\n",
    "  • mask=('None', 'None', 'None')\n",
    "  • training=False"
   ],
   "id": "52e779d44814527b"
  },
  {
   "metadata": {},
   "cell_type": "code",
   "outputs": [],
   "execution_count": null,
   "source": "# loading of the results:",
   "id": "3c0b4edce7700832"
  }
 ],
 "metadata": {
  "kernelspec": {
   "display_name": "Python 3 (ipykernel)",
   "language": "python",
   "name": "python3"
  },
  "language_info": {
   "codemirror_mode": {
    "name": "ipython",
    "version": 3
   },
   "file_extension": ".py",
   "mimetype": "text/x-python",
   "name": "python",
   "nbconvert_exporter": "python",
   "pygments_lexer": "ipython3",
   "version": "3.13.3"
  }
 },
 "nbformat": 4,
 "nbformat_minor": 5
}
