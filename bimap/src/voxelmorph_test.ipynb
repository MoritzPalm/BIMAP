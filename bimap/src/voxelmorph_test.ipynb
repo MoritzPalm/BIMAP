{
 "cells": [
  {
   "cell_type": "code",
   "execution_count": null,
   "id": "88adcc0d-3be4-4e4a-a801-ce3911573c92",
   "metadata": {},
   "outputs": [],
   "source": [
    "import corr\n",
    "\n",
    "import voxelmorph as vxm\n",
    "import numpy as np"
   ]
  }
 ],
 "metadata": {
  "kernelspec": {
   "display_name": "Python 3 (ipykernel)",
   "language": "python",
   "name": "python3"
  },
  "language_info": {
   "codemirror_mode": {
    "name": "ipython",
    "version": 3
   },
   "file_extension": ".py",
   "mimetype": "text/x-python",
   "name": "python",
   "nbconvert_exporter": "python",
   "pygments_lexer": "ipython3",
   "version": "3.13.3"
  }
 },
 "nbformat": 4,
 "nbformat_minor": 5
}
