{
 "cells": [
  {
   "cell_type": "code",
   "execution_count": 6,
   "id": "initial_id",
   "metadata": {
    "ExecuteTime": {
     "end_time": "2025-06-03T15:54:06.965419Z",
     "start_time": "2025-06-03T15:54:06.961417Z"
    },
    "collapsed": true
   },
   "outputs": [],
   "source": [
    "import corr\n",
    "import numpy as np"
   ]
  },
  {
   "cell_type": "code",
   "execution_count": 2,
   "id": "9672cdc4054b9400",
   "metadata": {
    "ExecuteTime": {
     "end_time": "2025-06-03T15:39:06.200070Z",
     "start_time": "2025-06-03T15:38:59.743551Z"
    }
   },
   "outputs": [],
   "source": [
    "frames = corr.load_example_experiment()\n",
    "template_idx = corr.find_highest_correlation(frames)\n",
    "template = frames[template_idx]"
   ]
  },
  {
   "cell_type": "code",
   "execution_count": 3,
   "id": "1db9d0b2e441e768",
   "metadata": {
    "ExecuteTime": {
     "end_time": "2025-06-03T15:49:56.698891Z",
     "start_time": "2025-06-03T15:39:06.217173Z"
    }
   },
   "outputs": [
    {
     "name": "stderr",
     "output_type": "stream",
     "text": [
      "100%|██████████| 544/544 [10:50<00:00,  1.20s/it]\n"
     ]
    }
   ],
   "source": [
    "corrected = corr.ants_reg(frames, template_idx)"
   ]
  },
  {
   "cell_type": "code",
   "execution_count": 4,
   "id": "3a57b11b552b9065",
   "metadata": {
    "ExecuteTime": {
     "end_time": "2025-06-03T15:50:07.177638Z",
     "start_time": "2025-06-03T15:49:56.726888Z"
    }
   },
   "outputs": [],
   "source": [
    "ssims, gradient_ssims = corr.evaluate(corrected, template)"
   ]
  },
  {
   "cell_type": "code",
   "execution_count": 5,
   "id": "7e2bad287e789dfb",
   "metadata": {
    "ExecuteTime": {
     "end_time": "2025-06-03T15:50:08.326691Z",
     "start_time": "2025-06-03T15:50:07.191711Z"
    }
   },
   "outputs": [],
   "source": [
    "corr.save_results(corrected, corr.pth, \"ants\")"
   ]
  },
  {
   "cell_type": "code",
   "execution_count": 7,
   "id": "706416fb1297b35d",
   "metadata": {
    "ExecuteTime": {
     "end_time": "2025-06-03T15:54:09.047123Z",
     "start_time": "2025-06-03T15:54:09.040163Z"
    }
   },
   "outputs": [
    {
     "data": {
      "text/plain": [
       "0.6263002056530433"
      ]
     },
     "execution_count": 7,
     "metadata": {},
     "output_type": "execute_result"
    }
   ],
   "source": [
    "np.mean(ssims)"
   ]
  },
  {
   "cell_type": "code",
   "execution_count": 8,
   "id": "75f92795d6cab58c",
   "metadata": {
    "ExecuteTime": {
     "end_time": "2025-06-03T15:54:14.253278Z",
     "start_time": "2025-06-03T15:54:14.247742Z"
    }
   },
   "outputs": [
    {
     "data": {
      "text/plain": [
       "0.45537288566529666"
      ]
     },
     "execution_count": 8,
     "metadata": {},
     "output_type": "execute_result"
    }
   ],
   "source": [
    "np.mean(gradient_ssims)"
   ]
  },
  {
   "cell_type": "code",
   "execution_count": null,
   "id": "48878f2a2f9f6c34",
   "metadata": {},
   "outputs": [],
   "source": []
  }
 ],
 "metadata": {
  "kernelspec": {
   "display_name": "Python 3",
   "language": "python",
   "name": "python3"
  },
  "language_info": {
   "codemirror_mode": {
    "name": "ipython",
    "version": 2
   },
   "file_extension": ".py",
   "mimetype": "text/x-python",
   "name": "python",
   "nbconvert_exporter": "python",
   "pygments_lexer": "ipython2",
   "version": "2.7.6"
  }
 },
 "nbformat": 4,
 "nbformat_minor": 5
}
