{
 "cells": [
  {
   "metadata": {},
   "cell_type": "code",
   "outputs": [],
   "execution_count": null,
   "source": [
    "import corr\n",
    "import numpy as np\n",
    "from PIL import Image\n",
    "from pathlib import Path"
   ],
   "id": "5a3056dd8082909"
  },
  {
   "metadata": {},
   "cell_type": "code",
   "outputs": [],
   "execution_count": null,
   "source": [
    "frames = corr.load_example_experiment()\n",
    "template_idx = corr.find_highest_correlation(frames, plot=True)\n",
    "template = frames[template_idx]"
   ],
   "id": "31c439d0e138ff7b"
  },
  {
   "metadata": {},
   "cell_type": "code",
   "outputs": [],
   "execution_count": null,
   "source": "corrected = corr.ants_reg(frames, template_idx)",
   "id": "5fafe832d454b3b7"
  },
  {
   "metadata": {},
   "cell_type": "code",
   "outputs": [],
   "execution_count": null,
   "source": "ssims, gradient_ssims = corr.evaluate(corrected, template)",
   "id": "1293fd733b2f8638"
  },
  {
   "metadata": {},
   "cell_type": "code",
   "outputs": [],
   "execution_count": null,
   "source": "corr.save_results(corrected, corr.pth, \"ants\")",
   "id": "53c4ce608590f0c3"
  },
  {
   "metadata": {},
   "cell_type": "code",
   "outputs": [],
   "execution_count": null,
   "source": "np.mean(ssims)",
   "id": "7a3fc05cbd5e8e19"
  },
  {
   "metadata": {},
   "cell_type": "code",
   "outputs": [],
   "execution_count": null,
   "source": "np.mean(gradient_ssims)",
   "id": "d3fd99ec7969c9af"
  },
  {
   "metadata": {},
   "cell_type": "code",
   "outputs": [],
   "execution_count": null,
   "source": "",
   "id": "7b100edd7c732adc"
  },
  {
   "metadata": {},
   "cell_type": "markdown",
   "source": "Testing other experiments..",
   "id": "1284ae50498ef4c4"
  },
  {
   "metadata": {},
   "cell_type": "code",
   "outputs": [],
   "execution_count": null,
   "source": [
    "pth = Path(\"../../data/low_movement/1czi\")\n",
    "pattern = r\"1czi*.tif\"\n",
    "frame_paths = list(pth.glob(pattern))\n",
    "if not frame_paths:\n",
    "    error_msg = f\"No files found matching {pattern=}\"\n",
    "    raise FileNotFoundError(error_msg)\n",
    "frames = np.asarray([np.array(Image.open(path.as_posix())).astype(np.float32) for path in frame_paths])\n",
    "\n"
   ],
   "id": "dd207d2f62f90cf1"
  },
  {
   "metadata": {},
   "cell_type": "code",
   "outputs": [],
   "execution_count": null,
   "source": "template_idx = corr.find_highest_correlation(frames, plot=True)",
   "id": "926cca991bf77dcf"
  },
  {
   "metadata": {},
   "cell_type": "code",
   "outputs": [],
   "execution_count": null,
   "source": "",
   "id": "ae2181236b149b8"
  }
 ],
 "metadata": {
  "kernelspec": {
   "display_name": "Python 3",
   "language": "python",
   "name": "python3"
  },
  "language_info": {
   "codemirror_mode": {
    "name": "ipython",
    "version": 2
   },
   "file_extension": ".py",
   "mimetype": "text/x-python",
   "name": "python",
   "nbconvert_exporter": "python",
   "pygments_lexer": "ipython2",
   "version": "2.7.6"
  }
 },
 "nbformat": 4,
 "nbformat_minor": 5
}
