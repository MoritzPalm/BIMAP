{
 "cells": [
  {
   "cell_type": "code",
   "execution_count": null,
   "id": "5a3056dd8082909",
   "metadata": {},
   "outputs": [],
   "source": [
    "from pathlib import Path\n",
    "\n",
    "import corr\n",
    "import utils\n",
    "import numpy as np\n",
    "from PIL import Image"
   ]
  },
  {
   "cell_type": "code",
   "execution_count": null,
   "id": "31c439d0e138ff7b",
   "metadata": {},
   "outputs": [],
   "source": [
    "frames = utils.load_example_experiment()\n",
    "template_idx = utils.find_highest_correlation(frames, plot=True)\n",
    "template = frames[template_idx]"
   ]
  },
  {
   "cell_type": "code",
   "execution_count": null,
   "id": "5fafe832d454b3b7",
   "metadata": {},
   "outputs": [],
   "source": [
    "corrected = corr.ants_reg(frames, template_idx)"
   ]
  },
  {
   "cell_type": "code",
   "execution_count": null,
   "id": "1293fd733b2f8638",
   "metadata": {},
   "outputs": [],
   "source": "ssims, gradient_ssims = utils.evaluate(corrected, template)"
  },
  {
   "cell_type": "code",
   "execution_count": null,
   "id": "53c4ce608590f0c3",
   "metadata": {},
   "outputs": [],
   "source": "utils.save_results(corrected, corr.pth, \"ants\")"
  },
  {
   "cell_type": "code",
   "execution_count": null,
   "id": "7a3fc05cbd5e8e19",
   "metadata": {},
   "outputs": [],
   "source": [
    "np.mean(ssims)"
   ]
  },
  {
   "cell_type": "code",
   "execution_count": null,
   "id": "d3fd99ec7969c9af",
   "metadata": {},
   "outputs": [],
   "source": [
    "np.mean(gradient_ssims)"
   ]
  },
  {
   "cell_type": "code",
   "execution_count": null,
   "id": "7b100edd7c732adc",
   "metadata": {},
   "outputs": [],
   "source": []
  },
  {
   "cell_type": "markdown",
   "id": "1284ae50498ef4c4",
   "metadata": {},
   "source": "Testing other experiments.."
  },
  {
   "cell_type": "code",
   "execution_count": null,
   "id": "dd207d2f62f90cf1",
   "metadata": {},
   "outputs": [],
   "source": [
    "pth = Path(\"../../data/low_movement/1czi\")\n",
    "pattern = r\"1czi*.tif\"\n",
    "frame_paths = list(pth.glob(pattern))\n",
    "if not frame_paths:\n",
    "    error_msg = f\"No files found matching {pattern=}\"\n",
    "    raise FileNotFoundError(error_msg)\n",
    "frames = np.asarray([np.array(Image.open(path.as_posix())).astype(np.float32) for path in frame_paths])\n",
    "\n"
   ]
  },
  {
   "cell_type": "code",
   "execution_count": null,
   "id": "926cca991bf77dcf",
   "metadata": {},
   "outputs": [],
   "source": "template_idx = utils.find_highest_correlation(frames, plot=True)"
  },
  {
   "cell_type": "code",
   "execution_count": null,
   "id": "ae2181236b149b8",
   "metadata": {},
   "outputs": [],
   "source": []
  }
 ],
 "metadata": {
  "kernelspec": {
   "display_name": "Python 3",
   "language": "python",
   "name": "python3"
  },
  "language_info": {
   "codemirror_mode": {
    "name": "ipython",
    "version": 2
   },
   "file_extension": ".py",
   "mimetype": "text/x-python",
   "name": "python",
   "nbconvert_exporter": "python",
   "pygments_lexer": "ipython2",
   "version": "2.7.6"
  }
 },
 "nbformat": 4,
 "nbformat_minor": 5
}
