{
 "cells": [
  {
   "cell_type": "markdown",
   "id": "6a844002c0009763",
   "metadata": {},
   "source": [
    "Pipeline image registration\n",
    "\n",
    "Steps:\n",
    "- calculate template frame\n",
    "- apply ants registration\n",
    "- calculate metrics\n",
    "- apply blob detection\n",
    "- generate video from registered images with detected blobs\n"
   ]
  },
  {
   "cell_type": "code",
   "id": "initial_id",
   "metadata": {
    "collapsed": true,
    "ExecuteTime": {
     "end_time": "2025-06-24T13:16:30.427577Z",
     "start_time": "2025-06-24T13:16:30.423688Z"
    }
   },
   "source": [
    "import corr\n",
    "import utils\n",
    "import matplotlib.pyplot as plt\n",
    "import numpy as np\n",
    "from matplotlib import animation\n",
    "from skimage.feature import blob_log"
   ],
   "outputs": [],
   "execution_count": 6
  },
  {
   "cell_type": "code",
   "id": "f1612ec70317440f",
   "metadata": {
    "ExecuteTime": {
     "end_time": "2025-06-24T13:33:55.042021Z",
     "start_time": "2025-06-24T13:16:30.490154Z"
    }
   },
   "source": [
    "frames = utils.load_example_experiment()\n",
    "#denoised_frames = corr.denoise_stack(frames)\n",
    "template_idx = utils.find_highest_correlation(frames)\n",
    "template = frames[template_idx]\n",
    "\n",
    "corrected = corr.ants_reg(frames, template_idx)\n",
    "corrected = utils.denoise_stack(corrected)\n",
    "blobs_log = []\n",
    "for frame in corrected:\n",
    "    blobs_log.append(blob_log(frame, min_sigma=5, max_sigma=15, num_sigma=5,threshold=0.04))\n",
    "ssims = utils.evaluate(corrected, template)\n",
    "print(np.mean(ssims))"
   ],
   "outputs": [
    {
     "name": "stderr",
     "output_type": "stream",
     "text": [
      "100%|██████████| 764/764 [15:53<00:00,  1.25s/it]\n"
     ]
    },
    {
     "name": "stdout",
     "output_type": "stream",
     "text": [
      "0.043266401226258334\n"
     ]
    }
   ],
   "execution_count": 7
  },
  {
   "cell_type": "code",
   "id": "d0367f446af796e9",
   "metadata": {
    "ExecuteTime": {
     "end_time": "2025-06-24T13:33:55.491492Z",
     "start_time": "2025-06-24T13:33:55.144977Z"
    }
   },
   "source": [
    "\n",
    "fig, ax = plt.subplots()\n",
    "writer = animation.FFMpegWriter(fps=10)\n",
    "\n",
    "with writer.saving(fig, \"blobs_overlay_matplotlib_no_circles.mp4\", dpi=100):\n",
    "    for frame, blobs in zip(corrected, blobs_log, strict=False):\n",
    "        ax.clear()\n",
    "        ax.imshow(frame, cmap=\"gray\")\n",
    "        #for y, x, sigma in blobs:\n",
    "            #circle = plt.Circle((x, y), sigma*np.sqrt(2), edgecolor=\"r\", fill=False,\n",
    "            # lw=1)\n",
    "            #ax.add_patch(circle)\n",
    "        ax.axis(\"off\")\n",
    "        writer.grab_frame()\n"
   ],
   "outputs": [
    {
     "ename": "FileNotFoundError",
     "evalue": "[WinError 2] Das System kann die angegebene Datei nicht finden",
     "output_type": "error",
     "traceback": [
      "\u001B[31m---------------------------------------------------------------------------\u001B[39m",
      "\u001B[31mFileNotFoundError\u001B[39m                         Traceback (most recent call last)",
      "\u001B[36mCell\u001B[39m\u001B[36m \u001B[39m\u001B[32mIn[8]\u001B[39m\u001B[32m, line 4\u001B[39m\n\u001B[32m      1\u001B[39m fig, ax = plt.subplots()\n\u001B[32m      2\u001B[39m writer = animation.FFMpegWriter(fps=\u001B[32m10\u001B[39m)\n\u001B[32m----> \u001B[39m\u001B[32m4\u001B[39m \u001B[38;5;28;43;01mwith\u001B[39;49;00m\u001B[43m \u001B[49m\u001B[43mwriter\u001B[49m\u001B[43m.\u001B[49m\u001B[43msaving\u001B[49m\u001B[43m(\u001B[49m\u001B[43mfig\u001B[49m\u001B[43m,\u001B[49m\u001B[43m \u001B[49m\u001B[33;43m\"\u001B[39;49m\u001B[33;43mblobs_overlay_matplotlib_no_circles.mp4\u001B[39;49m\u001B[33;43m\"\u001B[39;49m\u001B[43m,\u001B[49m\u001B[43m \u001B[49m\u001B[43mdpi\u001B[49m\u001B[43m=\u001B[49m\u001B[32;43m100\u001B[39;49m\u001B[43m)\u001B[49m\u001B[43m:\u001B[49m\n\u001B[32m      5\u001B[39m \u001B[43m    \u001B[49m\u001B[38;5;28;43;01mfor\u001B[39;49;00m\u001B[43m \u001B[49m\u001B[43mframe\u001B[49m\u001B[43m,\u001B[49m\u001B[43m \u001B[49m\u001B[43mblobs\u001B[49m\u001B[43m \u001B[49m\u001B[38;5;129;43;01min\u001B[39;49;00m\u001B[43m \u001B[49m\u001B[38;5;28;43mzip\u001B[39;49m\u001B[43m(\u001B[49m\u001B[43mcorrected\u001B[49m\u001B[43m,\u001B[49m\u001B[43m \u001B[49m\u001B[43mblobs_log\u001B[49m\u001B[43m,\u001B[49m\u001B[43m \u001B[49m\u001B[43mstrict\u001B[49m\u001B[43m=\u001B[49m\u001B[38;5;28;43;01mFalse\u001B[39;49;00m\u001B[43m)\u001B[49m\u001B[43m:\u001B[49m\n\u001B[32m      6\u001B[39m \u001B[43m        \u001B[49m\u001B[43max\u001B[49m\u001B[43m.\u001B[49m\u001B[43mclear\u001B[49m\u001B[43m(\u001B[49m\u001B[43m)\u001B[49m\n",
      "\u001B[36mFile \u001B[39m\u001B[32m~\\AppData\\Roaming\\uv\\python\\cpython-3.12.10-windows-x86_64-none\\Lib\\contextlib.py:137\u001B[39m, in \u001B[36m_GeneratorContextManager.__enter__\u001B[39m\u001B[34m(self)\u001B[39m\n\u001B[32m    135\u001B[39m \u001B[38;5;28;01mdel\u001B[39;00m \u001B[38;5;28mself\u001B[39m.args, \u001B[38;5;28mself\u001B[39m.kwds, \u001B[38;5;28mself\u001B[39m.func\n\u001B[32m    136\u001B[39m \u001B[38;5;28;01mtry\u001B[39;00m:\n\u001B[32m--> \u001B[39m\u001B[32m137\u001B[39m     \u001B[38;5;28;01mreturn\u001B[39;00m \u001B[38;5;28;43mnext\u001B[39;49m\u001B[43m(\u001B[49m\u001B[38;5;28;43mself\u001B[39;49m\u001B[43m.\u001B[49m\u001B[43mgen\u001B[49m\u001B[43m)\u001B[49m\n\u001B[32m    138\u001B[39m \u001B[38;5;28;01mexcept\u001B[39;00m \u001B[38;5;167;01mStopIteration\u001B[39;00m:\n\u001B[32m    139\u001B[39m     \u001B[38;5;28;01mraise\u001B[39;00m \u001B[38;5;167;01mRuntimeError\u001B[39;00m(\u001B[33m\"\u001B[39m\u001B[33mgenerator didn\u001B[39m\u001B[33m'\u001B[39m\u001B[33mt yield\u001B[39m\u001B[33m\"\u001B[39m) \u001B[38;5;28;01mfrom\u001B[39;00m\u001B[38;5;250m \u001B[39m\u001B[38;5;28;01mNone\u001B[39;00m\n",
      "\u001B[36mFile \u001B[39m\u001B[32m~\\Documents\\Studium\\BIMAP\\.venv\\Lib\\site-packages\\matplotlib\\animation.py:221\u001B[39m, in \u001B[36mAbstractMovieWriter.saving\u001B[39m\u001B[34m(self, fig, outfile, dpi, *args, **kwargs)\u001B[39m\n\u001B[32m    216\u001B[39m     _log.info(\u001B[33m\"\u001B[39m\u001B[33mDisabling savefig.bbox = \u001B[39m\u001B[33m'\u001B[39m\u001B[33mtight\u001B[39m\u001B[33m'\u001B[39m\u001B[33m, as it may cause \u001B[39m\u001B[33m\"\u001B[39m\n\u001B[32m    217\u001B[39m               \u001B[33m\"\u001B[39m\u001B[33mframe size to vary, which is inappropriate for \u001B[39m\u001B[33m\"\u001B[39m\n\u001B[32m    218\u001B[39m               \u001B[33m\"\u001B[39m\u001B[33manimation.\u001B[39m\u001B[33m\"\u001B[39m)\n\u001B[32m    220\u001B[39m \u001B[38;5;66;03m# This particular sequence is what contextlib.contextmanager wants\u001B[39;00m\n\u001B[32m--> \u001B[39m\u001B[32m221\u001B[39m \u001B[38;5;28;43mself\u001B[39;49m\u001B[43m.\u001B[49m\u001B[43msetup\u001B[49m\u001B[43m(\u001B[49m\u001B[43mfig\u001B[49m\u001B[43m,\u001B[49m\u001B[43m \u001B[49m\u001B[43moutfile\u001B[49m\u001B[43m,\u001B[49m\u001B[43m \u001B[49m\u001B[43mdpi\u001B[49m\u001B[43m,\u001B[49m\u001B[43m \u001B[49m\u001B[43m*\u001B[49m\u001B[43margs\u001B[49m\u001B[43m,\u001B[49m\u001B[43m \u001B[49m\u001B[43m*\u001B[49m\u001B[43m*\u001B[49m\u001B[43mkwargs\u001B[49m\u001B[43m)\u001B[49m\n\u001B[32m    222\u001B[39m \u001B[38;5;28;01mwith\u001B[39;00m mpl.rc_context({\u001B[33m'\u001B[39m\u001B[33msavefig.bbox\u001B[39m\u001B[33m'\u001B[39m: \u001B[38;5;28;01mNone\u001B[39;00m}):\n\u001B[32m    223\u001B[39m     \u001B[38;5;28;01mtry\u001B[39;00m:\n",
      "\u001B[36mFile \u001B[39m\u001B[32m~\\Documents\\Studium\\BIMAP\\.venv\\Lib\\site-packages\\matplotlib\\animation.py:312\u001B[39m, in \u001B[36mMovieWriter.setup\u001B[39m\u001B[34m(self, fig, outfile, dpi)\u001B[39m\n\u001B[32m    309\u001B[39m \u001B[38;5;28mself\u001B[39m._w, \u001B[38;5;28mself\u001B[39m._h = \u001B[38;5;28mself\u001B[39m._adjust_frame_size()\n\u001B[32m    310\u001B[39m \u001B[38;5;66;03m# Run here so that grab_frame() can write the data to a pipe. This\u001B[39;00m\n\u001B[32m    311\u001B[39m \u001B[38;5;66;03m# eliminates the need for temp files.\u001B[39;00m\n\u001B[32m--> \u001B[39m\u001B[32m312\u001B[39m \u001B[38;5;28;43mself\u001B[39;49m\u001B[43m.\u001B[49m\u001B[43m_run\u001B[49m\u001B[43m(\u001B[49m\u001B[43m)\u001B[49m\n",
      "\u001B[36mFile \u001B[39m\u001B[32m~\\Documents\\Studium\\BIMAP\\.venv\\Lib\\site-packages\\matplotlib\\animation.py:322\u001B[39m, in \u001B[36mMovieWriter._run\u001B[39m\u001B[34m(self)\u001B[39m\n\u001B[32m    319\u001B[39m _log.info(\u001B[33m'\u001B[39m\u001B[33mMovieWriter._run: running command: \u001B[39m\u001B[38;5;132;01m%s\u001B[39;00m\u001B[33m'\u001B[39m,\n\u001B[32m    320\u001B[39m           cbook._pformat_subprocess(command))\n\u001B[32m    321\u001B[39m PIPE = subprocess.PIPE\n\u001B[32m--> \u001B[39m\u001B[32m322\u001B[39m \u001B[38;5;28mself\u001B[39m._proc = \u001B[43msubprocess\u001B[49m\u001B[43m.\u001B[49m\u001B[43mPopen\u001B[49m\u001B[43m(\u001B[49m\n\u001B[32m    323\u001B[39m \u001B[43m    \u001B[49m\u001B[43mcommand\u001B[49m\u001B[43m,\u001B[49m\u001B[43m \u001B[49m\u001B[43mstdin\u001B[49m\u001B[43m=\u001B[49m\u001B[43mPIPE\u001B[49m\u001B[43m,\u001B[49m\u001B[43m \u001B[49m\u001B[43mstdout\u001B[49m\u001B[43m=\u001B[49m\u001B[43mPIPE\u001B[49m\u001B[43m,\u001B[49m\u001B[43m \u001B[49m\u001B[43mstderr\u001B[49m\u001B[43m=\u001B[49m\u001B[43mPIPE\u001B[49m\u001B[43m,\u001B[49m\n\u001B[32m    324\u001B[39m \u001B[43m    \u001B[49m\u001B[43mcreationflags\u001B[49m\u001B[43m=\u001B[49m\u001B[43msubprocess_creation_flags\u001B[49m\u001B[43m)\u001B[49m\n",
      "\u001B[36mFile \u001B[39m\u001B[32m~\\AppData\\Roaming\\uv\\python\\cpython-3.12.10-windows-x86_64-none\\Lib\\subprocess.py:1026\u001B[39m, in \u001B[36mPopen.__init__\u001B[39m\u001B[34m(self, args, bufsize, executable, stdin, stdout, stderr, preexec_fn, close_fds, shell, cwd, env, universal_newlines, startupinfo, creationflags, restore_signals, start_new_session, pass_fds, user, group, extra_groups, encoding, errors, text, umask, pipesize, process_group)\u001B[39m\n\u001B[32m   1022\u001B[39m         \u001B[38;5;28;01mif\u001B[39;00m \u001B[38;5;28mself\u001B[39m.text_mode:\n\u001B[32m   1023\u001B[39m             \u001B[38;5;28mself\u001B[39m.stderr = io.TextIOWrapper(\u001B[38;5;28mself\u001B[39m.stderr,\n\u001B[32m   1024\u001B[39m                     encoding=encoding, errors=errors)\n\u001B[32m-> \u001B[39m\u001B[32m1026\u001B[39m     \u001B[38;5;28;43mself\u001B[39;49m\u001B[43m.\u001B[49m\u001B[43m_execute_child\u001B[49m\u001B[43m(\u001B[49m\u001B[43margs\u001B[49m\u001B[43m,\u001B[49m\u001B[43m \u001B[49m\u001B[43mexecutable\u001B[49m\u001B[43m,\u001B[49m\u001B[43m \u001B[49m\u001B[43mpreexec_fn\u001B[49m\u001B[43m,\u001B[49m\u001B[43m \u001B[49m\u001B[43mclose_fds\u001B[49m\u001B[43m,\u001B[49m\n\u001B[32m   1027\u001B[39m \u001B[43m                        \u001B[49m\u001B[43mpass_fds\u001B[49m\u001B[43m,\u001B[49m\u001B[43m \u001B[49m\u001B[43mcwd\u001B[49m\u001B[43m,\u001B[49m\u001B[43m \u001B[49m\u001B[43menv\u001B[49m\u001B[43m,\u001B[49m\n\u001B[32m   1028\u001B[39m \u001B[43m                        \u001B[49m\u001B[43mstartupinfo\u001B[49m\u001B[43m,\u001B[49m\u001B[43m \u001B[49m\u001B[43mcreationflags\u001B[49m\u001B[43m,\u001B[49m\u001B[43m \u001B[49m\u001B[43mshell\u001B[49m\u001B[43m,\u001B[49m\n\u001B[32m   1029\u001B[39m \u001B[43m                        \u001B[49m\u001B[43mp2cread\u001B[49m\u001B[43m,\u001B[49m\u001B[43m \u001B[49m\u001B[43mp2cwrite\u001B[49m\u001B[43m,\u001B[49m\n\u001B[32m   1030\u001B[39m \u001B[43m                        \u001B[49m\u001B[43mc2pread\u001B[49m\u001B[43m,\u001B[49m\u001B[43m \u001B[49m\u001B[43mc2pwrite\u001B[49m\u001B[43m,\u001B[49m\n\u001B[32m   1031\u001B[39m \u001B[43m                        \u001B[49m\u001B[43merrread\u001B[49m\u001B[43m,\u001B[49m\u001B[43m \u001B[49m\u001B[43merrwrite\u001B[49m\u001B[43m,\u001B[49m\n\u001B[32m   1032\u001B[39m \u001B[43m                        \u001B[49m\u001B[43mrestore_signals\u001B[49m\u001B[43m,\u001B[49m\n\u001B[32m   1033\u001B[39m \u001B[43m                        \u001B[49m\u001B[43mgid\u001B[49m\u001B[43m,\u001B[49m\u001B[43m \u001B[49m\u001B[43mgids\u001B[49m\u001B[43m,\u001B[49m\u001B[43m \u001B[49m\u001B[43muid\u001B[49m\u001B[43m,\u001B[49m\u001B[43m \u001B[49m\u001B[43mumask\u001B[49m\u001B[43m,\u001B[49m\n\u001B[32m   1034\u001B[39m \u001B[43m                        \u001B[49m\u001B[43mstart_new_session\u001B[49m\u001B[43m,\u001B[49m\u001B[43m \u001B[49m\u001B[43mprocess_group\u001B[49m\u001B[43m)\u001B[49m\n\u001B[32m   1035\u001B[39m \u001B[38;5;28;01mexcept\u001B[39;00m:\n\u001B[32m   1036\u001B[39m     \u001B[38;5;66;03m# Cleanup if the child failed starting.\u001B[39;00m\n\u001B[32m   1037\u001B[39m     \u001B[38;5;28;01mfor\u001B[39;00m f \u001B[38;5;129;01min\u001B[39;00m \u001B[38;5;28mfilter\u001B[39m(\u001B[38;5;28;01mNone\u001B[39;00m, (\u001B[38;5;28mself\u001B[39m.stdin, \u001B[38;5;28mself\u001B[39m.stdout, \u001B[38;5;28mself\u001B[39m.stderr)):\n",
      "\u001B[36mFile \u001B[39m\u001B[32m~\\AppData\\Roaming\\uv\\python\\cpython-3.12.10-windows-x86_64-none\\Lib\\subprocess.py:1538\u001B[39m, in \u001B[36mPopen._execute_child\u001B[39m\u001B[34m(self, args, executable, preexec_fn, close_fds, pass_fds, cwd, env, startupinfo, creationflags, shell, p2cread, p2cwrite, c2pread, c2pwrite, errread, errwrite, unused_restore_signals, unused_gid, unused_gids, unused_uid, unused_umask, unused_start_new_session, unused_process_group)\u001B[39m\n\u001B[32m   1536\u001B[39m \u001B[38;5;66;03m# Start the process\u001B[39;00m\n\u001B[32m   1537\u001B[39m \u001B[38;5;28;01mtry\u001B[39;00m:\n\u001B[32m-> \u001B[39m\u001B[32m1538\u001B[39m     hp, ht, pid, tid = \u001B[43m_winapi\u001B[49m\u001B[43m.\u001B[49m\u001B[43mCreateProcess\u001B[49m\u001B[43m(\u001B[49m\u001B[43mexecutable\u001B[49m\u001B[43m,\u001B[49m\u001B[43m \u001B[49m\u001B[43margs\u001B[49m\u001B[43m,\u001B[49m\n\u001B[32m   1539\u001B[39m \u001B[43m                             \u001B[49m\u001B[38;5;66;43;03m# no special security\u001B[39;49;00m\n\u001B[32m   1540\u001B[39m \u001B[43m                             \u001B[49m\u001B[38;5;28;43;01mNone\u001B[39;49;00m\u001B[43m,\u001B[49m\u001B[43m \u001B[49m\u001B[38;5;28;43;01mNone\u001B[39;49;00m\u001B[43m,\u001B[49m\n\u001B[32m   1541\u001B[39m \u001B[43m                             \u001B[49m\u001B[38;5;28;43mint\u001B[39;49m\u001B[43m(\u001B[49m\u001B[38;5;129;43;01mnot\u001B[39;49;00m\u001B[43m \u001B[49m\u001B[43mclose_fds\u001B[49m\u001B[43m)\u001B[49m\u001B[43m,\u001B[49m\n\u001B[32m   1542\u001B[39m \u001B[43m                             \u001B[49m\u001B[43mcreationflags\u001B[49m\u001B[43m,\u001B[49m\n\u001B[32m   1543\u001B[39m \u001B[43m                             \u001B[49m\u001B[43menv\u001B[49m\u001B[43m,\u001B[49m\n\u001B[32m   1544\u001B[39m \u001B[43m                             \u001B[49m\u001B[43mcwd\u001B[49m\u001B[43m,\u001B[49m\n\u001B[32m   1545\u001B[39m \u001B[43m                             \u001B[49m\u001B[43mstartupinfo\u001B[49m\u001B[43m)\u001B[49m\n\u001B[32m   1546\u001B[39m \u001B[38;5;28;01mfinally\u001B[39;00m:\n\u001B[32m   1547\u001B[39m     \u001B[38;5;66;03m# Child is launched. Close the parent's copy of those pipe\u001B[39;00m\n\u001B[32m   1548\u001B[39m     \u001B[38;5;66;03m# handles that only the child should have open.  You need\u001B[39;00m\n\u001B[32m   (...)\u001B[39m\u001B[32m   1551\u001B[39m     \u001B[38;5;66;03m# pipe will not close when the child process exits and the\u001B[39;00m\n\u001B[32m   1552\u001B[39m     \u001B[38;5;66;03m# ReadFile will hang.\u001B[39;00m\n\u001B[32m   1553\u001B[39m     \u001B[38;5;28mself\u001B[39m._close_pipe_fds(p2cread, p2cwrite,\n\u001B[32m   1554\u001B[39m                          c2pread, c2pwrite,\n\u001B[32m   1555\u001B[39m                          errread, errwrite)\n",
      "\u001B[31mFileNotFoundError\u001B[39m: [WinError 2] Das System kann die angegebene Datei nicht finden"
     ]
    },
    {
     "data": {
      "text/plain": [
       "<Figure size 640x480 with 1 Axes>"
      ],
      "image/png": "[encoded data removed]"
     },
     "metadata": {},
     "output_type": "display_data"
    }
   ],
   "execution_count": 8
  },
  {
   "cell_type": "code",
   "execution_count": null,
   "id": "40192dee26d4aa2c",
   "metadata": {
    "ExecuteTime": {
     "end_time": "2025-06-24T13:33:55.501493900Z",
     "start_time": "2025-06-11T06:04:42.800846Z"
    }
   },
   "outputs": [],
   "source": []
  }
 ],
 "metadata": {
  "kernelspec": {
   "display_name": "Python 3",
   "language": "python",
   "name": "python3"
  },
  "language_info": {
   "codemirror_mode": {
    "name": "ipython",
    "version": 2
   },
   "file_extension": ".py",
   "mimetype": "text/x-python",
   "name": "python",
   "nbconvert_exporter": "python",
   "pygments_lexer": "ipython2",
   "version": "2.7.6"
  }
 },
 "nbformat": 4,
 "nbformat_minor": 5
}
