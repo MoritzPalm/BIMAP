{
 "cells": [
  {
   "cell_type": "code",
   "execution_count": 16,
   "id": "72c7ae56-f2af-4608-b8c1-9c40874a79b4",
   "metadata": {},
   "outputs": [],
   "source": [
    "import numpy as np\n",
    "from pathlib import Path\n",
    "from PIL import Image\n",
    "\n",
    "import corr"
   ]
  },
  {
   "cell_type": "code",
   "execution_count": 2,
   "id": "77cdc14b-2ce7-49e4-99ec-2971c88949f9",
   "metadata": {},
   "outputs": [],
   "source": [
    "pth = Path('../data/low_movement/Experiment-746czi')\n"
   ]
  },
  {
   "cell_type": "code",
   "execution_count": 3,
   "id": "a4e48e93-f12b-4b83-939d-46f774233de6",
   "metadata": {},
   "outputs": [
    {
     "name": "stderr",
     "output_type": "stream",
     "text": [
      "/Users/admin/Documents/Studium/10_Semester/bimap/.venv/lib/python3.13/site-packages/scipy/signal/_signaltools.py:1456: RuntimeWarning: invalid value encountered in cast\n",
      "  return out.astype(result_type)\n"
     ]
    },
    {
     "name": "stdout",
     "output_type": "stream",
     "text": [
      "template_index=194\n"
     ]
    }
   ],
   "source": [
    "frame_paths = list(pth.glob('frame_*.tif'))\n",
    "frame_paths = [x.as_posix() for x in frame_paths]\n",
    "frame_paths.sort()\n",
    "frames = [np.array(Image.open(path)) for path in frame_paths]\n",
    "frames = np.asarray(frames)\n",
    "template_index = corr.find_highest_correlation(frames, plot=False)\n",
    "print(f'{template_index=}')\n"
   ]
  },
  {
   "cell_type": "code",
   "execution_count": 4,
   "id": "f9ff8266-a474-4a87-8bda-bad48ab6d29d",
   "metadata": {},
   "outputs": [
    {
     "name": "stderr",
     "output_type": "stream",
     "text": [
      "100%|█████████████████████████████████████████████████████████████████████████████████████| 544/544 [09:59<00:00,  1.10s/it]\n"
     ]
    }
   ],
   "source": [
    "ants_corrected = corr.ants_reg(frames, template_index)"
   ]
  },
  {
   "cell_type": "code",
   "execution_count": 13,
   "id": "f235c2f0-aa27-4550-9cf4-978f42d6ac25",
   "metadata": {},
   "outputs": [],
   "source": [
    "ants_corrected_numpy = []\n",
    "for image in ants_corrected:\n",
    "    ants_corrected_numpy.append(image.numpy())"
   ]
  },
  {
   "cell_type": "code",
   "execution_count": 5,
   "id": "ee3e5766-c58e-4130-b7c9-51404a60752e",
   "metadata": {},
   "outputs": [],
   "source": [
    "save_path = '../data/cache/'\n",
    "for i, image in enumerate(ants_corrected):\n",
    "    image = image.astype('float32')\n",
    "    image.image_write(save_path + f'ants_{i}.tiff')"
   ]
  },
  {
   "cell_type": "code",
   "execution_count": null,
   "id": "4eab4ef3-648e-44ba-b4e8-78fc6d2e213b",
   "metadata": {},
   "outputs": [],
   "source": [
    "ants_paths = list[save_path.glob('ants*.tiff'))\n",
    "ants_paths = [x.as_posix() for x in ants_paths]\n",
    "ants_paths.sort()\n",
    "#ants_corrected = "
   ]
  },
  {
   "cell_type": "code",
   "execution_count": 12,
   "id": "8f7cd3b5-ab1e-4270-ba86-15fa89fc6de8",
   "metadata": {},
   "outputs": [
    {
     "data": {
      "text/plain": [
       "array([[ 0,  0,  0, ..., 58, 58, 52],\n",
       "       [ 0,  0,  0, ..., 64, 63, 57],\n",
       "       [ 0,  0,  0, ..., 74, 62, 58],\n",
       "       ...,\n",
       "       [ 0,  0,  0, ...,  0,  0,  0],\n",
       "       [ 0,  0,  0, ...,  0,  0,  0],\n",
       "       [ 0,  0,  0, ...,  0,  0,  0]], shape=(258, 512), dtype=uint32)"
      ]
     },
     "execution_count": 12,
     "metadata": {},
     "output_type": "execute_result"
    }
   ],
   "source": [
    "ants_corrected[0].numpy()"
   ]
  },
  {
   "cell_type": "code",
   "execution_count": 17,
   "id": "3e335b62-e2f6-4e4c-8fca-dc68fd6faf74",
   "metadata": {},
   "outputs": [
    {
     "name": "stderr",
     "output_type": "stream",
     "text": [
      "  0%|                                                                                               | 0/544 [00:00<?, ?it/s]\n"
     ]
    },
    {
     "ename": "AttributeError",
     "evalue": "'numpy.ndarray' object has no attribute 'numpy'",
     "output_type": "error",
     "traceback": [
      "\u001b[31m---------------------------------------------------------------------------\u001b[39m",
      "\u001b[31mAttributeError\u001b[39m                            Traceback (most recent call last)",
      "\u001b[36mCell\u001b[39m\u001b[36m \u001b[39m\u001b[32mIn[17]\u001b[39m\u001b[32m, line 2\u001b[39m\n\u001b[32m      1\u001b[39m template = frames[template_index]\n\u001b[32m----> \u001b[39m\u001b[32m2\u001b[39m mean_ssim, mean_gradient_ssim = \u001b[43mcorr\u001b[49m\u001b[43m.\u001b[49m\u001b[43mevaluate\u001b[49m\u001b[43m(\u001b[49m\u001b[43mants_corrected_numpy\u001b[49m\u001b[43m,\u001b[49m\u001b[43m \u001b[49m\u001b[43mtemplate\u001b[49m\u001b[43m)\u001b[49m\n\u001b[32m      3\u001b[39m \u001b[38;5;28mprint\u001b[39m(\u001b[33mf\u001b[39m\u001b[33m'\u001b[39m\u001b[38;5;132;01m{\u001b[39;00mmean_ssim\u001b[38;5;132;01m}\u001b[39;00m\u001b[33m'\u001b[39m)\n",
      "\u001b[36mFile \u001b[39m\u001b[32m~/Documents/Studium/10_Semester/bimap/src/corr.py:44\u001b[39m, in \u001b[36mevaluate\u001b[39m\u001b[34m(corrected_images, template)\u001b[39m\n\u001b[32m     42\u001b[39m ssim_list = []\n\u001b[32m     43\u001b[39m \u001b[38;5;28;01mfor\u001b[39;00m i \u001b[38;5;129;01min\u001b[39;00m tqdm(\u001b[38;5;28mrange\u001b[39m(\u001b[38;5;28mlen\u001b[39m(corrected_images))):\n\u001b[32m---> \u001b[39m\u001b[32m44\u001b[39m     ssim_list.append(ssim(template, \u001b[43mcorrected_images\u001b[49m\u001b[43m[\u001b[49m\u001b[43mi\u001b[49m\u001b[43m]\u001b[49m\u001b[43m.\u001b[49m\u001b[43mnumpy\u001b[49m(), \n\u001b[32m     45\u001b[39m                         data_range=template.max() - template.min()))\n\u001b[32m     46\u001b[39m gradient_ssim_list = []\n\u001b[32m     47\u001b[39m gX_template = sobel(template, axis=\u001b[32m0\u001b[39m)\n",
      "\u001b[31mAttributeError\u001b[39m: 'numpy.ndarray' object has no attribute 'numpy'"
     ]
    }
   ],
   "source": [
    "template = frames[template_index]\n",
    "mean_ssim, mean_gradient_ssim = corr.evaluate(ants_corrected_numpy, template)\n",
    "print(f'{mean_ssim}')"
   ]
  },
  {
   "cell_type": "code",
   "execution_count": null,
   "id": "873d38fb-b592-4ae8-879d-ebb3bd57e09e",
   "metadata": {},
   "outputs": [],
   "source": []
  }
 ],
 "metadata": {
  "kernelspec": {
   "display_name": "Python 3 (ipykernel)",
   "language": "python",
   "name": "python3"
  },
  "language_info": {
   "codemirror_mode": {
    "name": "ipython",
    "version": 3
   },
   "file_extension": ".py",
   "mimetype": "text/x-python",
   "name": "python",
   "nbconvert_exporter": "python",
   "pygments_lexer": "ipython3",
   "version": "3.13.3"
  }
 },
 "nbformat": 4,
 "nbformat_minor": 5
}
